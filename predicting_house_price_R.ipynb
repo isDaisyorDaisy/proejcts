{
  "cells": [
    {
      "cell_type": "markdown",
      "metadata": {
        "id": "view-in-github",
        "colab_type": "text"
      },
      "source": [
        "<a href=\"https://colab.research.google.com/github/isDaisyorDaisy/proejcts/blob/main/predicting_house_price_R.ipynb\" target=\"_parent\"><img src=\"https://colab.research.google.com/assets/colab-badge.svg\" alt=\"Open In Colab\"/></a>"
      ]
    },
    {
      "cell_type": "code",
      "execution_count": null,
      "metadata": {
        "id": "DzMCfTuYG1RQ",
        "outputId": "2a366836-ae18-4275-f00d-ec7c8015f0ba"
      },
      "outputs": [
        {
          "name": "stderr",
          "output_type": "stream",
          "text": [
            "\n",
            "Attaching package: ‘dplyr’\n",
            "\n",
            "\n",
            "The following objects are masked from ‘package:stats’:\n",
            "\n",
            "    filter, lag\n",
            "\n",
            "\n",
            "The following objects are masked from ‘package:base’:\n",
            "\n",
            "    intersect, setdiff, setequal, union\n",
            "\n",
            "\n",
            "\n",
            "Attaching package: ‘data.table’\n",
            "\n",
            "\n",
            "The following objects are masked from ‘package:dplyr’:\n",
            "\n",
            "    between, first, last\n",
            "\n",
            "\n",
            "\n",
            "Attaching package: ‘lubridate’\n",
            "\n",
            "\n",
            "The following objects are masked from ‘package:data.table’:\n",
            "\n",
            "    hour, isoweek, mday, minute, month, quarter, second, wday, week,\n",
            "    yday, year\n",
            "\n",
            "\n",
            "The following objects are masked from ‘package:base’:\n",
            "\n",
            "    date, intersect, setdiff, union\n",
            "\n",
            "\n",
            "Loaded gbm 2.1.8\n",
            "\n"
          ]
        }
      ],
      "source": [
        "library(\"dplyr\")\n",
        "library(\"data.table\")\n",
        "library(\"lubridate\")\n",
        "library(\"gbm\")"
      ]
    },
    {
      "cell_type": "code",
      "execution_count": null,
      "metadata": {
        "id": "SOz_Dqu3G1RT"
      },
      "outputs": [],
      "source": [
        "st_d <- fread(\"data/sales_train.csv\")\n",
        "items_d <- fread(\"data/items.csv\")\n",
        "test_d <- fread(\"data/test.csv\")"
      ]
    },
    {
      "cell_type": "code",
      "execution_count": null,
      "metadata": {
        "id": "M_9llREZG1RT",
        "outputId": "712d0d6d-fc9a-41ad-d8dc-15d7e6b2d7c7"
      },
      "outputs": [
        {
          "data": {
            "text/html": [
              "<table>\n",
              "<caption>A data.table: 6 × 8</caption>\n",
              "<thead>\n",
              "\t<tr><th scope=col>item_id</th><th scope=col>date</th><th scope=col>date_block_num</th><th scope=col>shop_id</th><th scope=col>item_price</th><th scope=col>item_cnt_day</th><th scope=col>item_category_id</th><th scope=col>icid</th></tr>\n",
              "\t<tr><th scope=col>&lt;int&gt;</th><th scope=col>&lt;chr&gt;</th><th scope=col>&lt;int&gt;</th><th scope=col>&lt;int&gt;</th><th scope=col>&lt;dbl&gt;</th><th scope=col>&lt;dbl&gt;</th><th scope=col>&lt;int&gt;</th><th scope=col>&lt;fct&gt;</th></tr>\n",
              "</thead>\n",
              "<tbody>\n",
              "\t<tr><td>0</td><td>01.09.2014</td><td>20</td><td>54</td><td>  58</td><td>1</td><td>40</td><td>40</td></tr>\n",
              "\t<tr><td>1</td><td>04.04.2014</td><td>15</td><td>55</td><td>4490</td><td>1</td><td>76</td><td>76</td></tr>\n",
              "\t<tr><td>1</td><td>02.04.2014</td><td>15</td><td>55</td><td>4490</td><td>1</td><td>76</td><td>76</td></tr>\n",
              "\t<tr><td>1</td><td>06.07.2014</td><td>18</td><td>55</td><td>4490</td><td>1</td><td>76</td><td>76</td></tr>\n",
              "\t<tr><td>1</td><td>04.08.2014</td><td>19</td><td>55</td><td>4490</td><td>1</td><td>76</td><td>76</td></tr>\n",
              "\t<tr><td>1</td><td>11.09.2014</td><td>20</td><td>55</td><td>4490</td><td>1</td><td>76</td><td>76</td></tr>\n",
              "</tbody>\n",
              "</table>\n"
            ],
            "text/latex": [
              "A data.table: 6 × 8\n",
              "\\begin{tabular}{llllllll}\n",
              " item\\_id & date & date\\_block\\_num & shop\\_id & item\\_price & item\\_cnt\\_day & item\\_category\\_id & icid\\\\\n",
              " <int> & <chr> & <int> & <int> & <dbl> & <dbl> & <int> & <fct>\\\\\n",
              "\\hline\n",
              "\t 0 & 01.09.2014 & 20 & 54 &   58 & 1 & 40 & 40\\\\\n",
              "\t 1 & 04.04.2014 & 15 & 55 & 4490 & 1 & 76 & 76\\\\\n",
              "\t 1 & 02.04.2014 & 15 & 55 & 4490 & 1 & 76 & 76\\\\\n",
              "\t 1 & 06.07.2014 & 18 & 55 & 4490 & 1 & 76 & 76\\\\\n",
              "\t 1 & 04.08.2014 & 19 & 55 & 4490 & 1 & 76 & 76\\\\\n",
              "\t 1 & 11.09.2014 & 20 & 55 & 4490 & 1 & 76 & 76\\\\\n",
              "\\end{tabular}\n"
            ],
            "text/markdown": [
              "\n",
              "A data.table: 6 × 8\n",
              "\n",
              "| item_id &lt;int&gt; | date &lt;chr&gt; | date_block_num &lt;int&gt; | shop_id &lt;int&gt; | item_price &lt;dbl&gt; | item_cnt_day &lt;dbl&gt; | item_category_id &lt;int&gt; | icid &lt;fct&gt; |\n",
              "|---|---|---|---|---|---|---|---|\n",
              "| 0 | 01.09.2014 | 20 | 54 |   58 | 1 | 40 | 40 |\n",
              "| 1 | 04.04.2014 | 15 | 55 | 4490 | 1 | 76 | 76 |\n",
              "| 1 | 02.04.2014 | 15 | 55 | 4490 | 1 | 76 | 76 |\n",
              "| 1 | 06.07.2014 | 18 | 55 | 4490 | 1 | 76 | 76 |\n",
              "| 1 | 04.08.2014 | 19 | 55 | 4490 | 1 | 76 | 76 |\n",
              "| 1 | 11.09.2014 | 20 | 55 | 4490 | 1 | 76 | 76 |\n",
              "\n"
            ],
            "text/plain": [
              "  item_id date       date_block_num shop_id item_price item_cnt_day\n",
              "1 0       01.09.2014 20             54        58       1           \n",
              "2 1       04.04.2014 15             55      4490       1           \n",
              "3 1       02.04.2014 15             55      4490       1           \n",
              "4 1       06.07.2014 18             55      4490       1           \n",
              "5 1       04.08.2014 19             55      4490       1           \n",
              "6 1       11.09.2014 20             55      4490       1           \n",
              "  item_category_id icid\n",
              "1 40               40  \n",
              "2 76               76  \n",
              "3 76               76  \n",
              "4 76               76  \n",
              "5 76               76  \n",
              "6 76               76  "
            ]
          },
          "metadata": {},
          "output_type": "display_data"
        },
        {
          "data": {
            "text/html": [
              "<table>\n",
              "<caption>A data.table: 6 × 5</caption>\n",
              "<thead>\n",
              "\t<tr><th scope=col>item_id</th><th scope=col>ID</th><th scope=col>shop_id</th><th scope=col>item_category_id</th><th scope=col>icid</th></tr>\n",
              "\t<tr><th scope=col>&lt;int&gt;</th><th scope=col>&lt;int&gt;</th><th scope=col>&lt;int&gt;</th><th scope=col>&lt;int&gt;</th><th scope=col>&lt;fct&gt;</th></tr>\n",
              "</thead>\n",
              "<tbody>\n",
              "\t<tr><td>30</td><td> 2587</td><td>5</td><td>40</td><td>40</td></tr>\n",
              "\t<tr><td>30</td><td> 7687</td><td>4</td><td>40</td><td>40</td></tr>\n",
              "\t<tr><td>30</td><td>12787</td><td>6</td><td>40</td><td>40</td></tr>\n",
              "\t<tr><td>30</td><td>17887</td><td>3</td><td>40</td><td>40</td></tr>\n",
              "\t<tr><td>30</td><td>22987</td><td>2</td><td>40</td><td>40</td></tr>\n",
              "\t<tr><td>30</td><td>28087</td><td>7</td><td>40</td><td>40</td></tr>\n",
              "</tbody>\n",
              "</table>\n"
            ],
            "text/latex": [
              "A data.table: 6 × 5\n",
              "\\begin{tabular}{lllll}\n",
              " item\\_id & ID & shop\\_id & item\\_category\\_id & icid\\\\\n",
              " <int> & <int> & <int> & <int> & <fct>\\\\\n",
              "\\hline\n",
              "\t 30 &  2587 & 5 & 40 & 40\\\\\n",
              "\t 30 &  7687 & 4 & 40 & 40\\\\\n",
              "\t 30 & 12787 & 6 & 40 & 40\\\\\n",
              "\t 30 & 17887 & 3 & 40 & 40\\\\\n",
              "\t 30 & 22987 & 2 & 40 & 40\\\\\n",
              "\t 30 & 28087 & 7 & 40 & 40\\\\\n",
              "\\end{tabular}\n"
            ],
            "text/markdown": [
              "\n",
              "A data.table: 6 × 5\n",
              "\n",
              "| item_id &lt;int&gt; | ID &lt;int&gt; | shop_id &lt;int&gt; | item_category_id &lt;int&gt; | icid &lt;fct&gt; |\n",
              "|---|---|---|---|---|\n",
              "| 30 |  2587 | 5 | 40 | 40 |\n",
              "| 30 |  7687 | 4 | 40 | 40 |\n",
              "| 30 | 12787 | 6 | 40 | 40 |\n",
              "| 30 | 17887 | 3 | 40 | 40 |\n",
              "| 30 | 22987 | 2 | 40 | 40 |\n",
              "| 30 | 28087 | 7 | 40 | 40 |\n",
              "\n"
            ],
            "text/plain": [
              "  item_id ID    shop_id item_category_id icid\n",
              "1 30       2587 5       40               40  \n",
              "2 30       7687 4       40               40  \n",
              "3 30      12787 6       40               40  \n",
              "4 30      17887 3       40               40  \n",
              "5 30      22987 2       40               40  \n",
              "6 30      28087 7       40               40  "
            ]
          },
          "metadata": {},
          "output_type": "display_data"
        }
      ],
      "source": [
        "sales_d <- merge(st_d, items_d[,c(\"item_id\", \"item_category_id\")], by = \"item_id\", all.x = T)\n",
        "test_d  <- merge(test_d, items_d[,c(\"item_id\", \"item_category_id\")], by = \"item_id\", all.x = T)\n",
        "\n",
        "# sales_d$date     <- as.Date(sales_d$date, \"%d.%m.%Y\")\n",
        "# sales_d$day      <- as.factor(day(sales_d$date))\n",
        "# sales_d$weekdays <- as.factor(weekdays(sales_d$date))\n",
        "# sales_d$month    <- as.factor(month(sales_d$date))\n",
        "# sales_d$year     <- as.factor(year(sales_d$date))\n",
        "\n",
        "sales_d$icid <- as.factor(sales_d$item_category_id)\n",
        "test_d$icid  <- as.factor(test_d$item_category_id)\n",
        "head(sales_d)\n",
        "head(test_d)"
      ]
    },
    {
      "cell_type": "code",
      "execution_count": null,
      "metadata": {
        "id": "lhufr5hTG1RU"
      },
      "outputs": [],
      "source": [
        "do_p <- function(res, num){\n",
        "    subm <- data.frame(ID = test_d$ID, item_cnt_month = res)\n",
        "    write.csv(subm, file = paste(\"sub\", num, \".csv\", sep=\"\"), row.names = F)\n",
        "    return(subm)\n",
        "}\n",
        "getmode <- function(v) {\n",
        "   uniqv <- unique(v)\n",
        "   uniqv[which.max(tabulate(match(v, uniqv)))]\n",
        "}"
      ]
    },
    {
      "cell_type": "markdown",
      "metadata": {
        "id": "H6SIWLs5G1RU"
      },
      "source": [
        "## Try 1\n",
        "\n",
        "score: 1.56324"
      ]
    },
    {
      "cell_type": "code",
      "execution_count": null,
      "metadata": {
        "id": "CkpHQAwkG1RU",
        "outputId": "78fce78c-66bd-411b-febf-2935183dad28"
      },
      "outputs": [
        {
          "data": {
            "text/html": [
              "<table>\n",
              "<caption>A data.frame: 6 × 2</caption>\n",
              "<thead>\n",
              "\t<tr><th></th><th scope=col>ID</th><th scope=col>item_cnt_month</th></tr>\n",
              "\t<tr><th></th><th scope=col>&lt;int&gt;</th><th scope=col>&lt;dbl&gt;</th></tr>\n",
              "</thead>\n",
              "<tbody>\n",
              "\t<tr><th scope=row>1</th><td> 2587</td><td>1.213684</td></tr>\n",
              "\t<tr><th scope=row>2</th><td> 7687</td><td>1.214621</td></tr>\n",
              "\t<tr><th scope=row>3</th><td>12787</td><td>1.212746</td></tr>\n",
              "\t<tr><th scope=row>4</th><td>17887</td><td>1.215559</td></tr>\n",
              "\t<tr><th scope=row>5</th><td>22987</td><td>1.216496</td></tr>\n",
              "\t<tr><th scope=row>6</th><td>28087</td><td>1.211808</td></tr>\n",
              "</tbody>\n",
              "</table>\n"
            ],
            "text/latex": [
              "A data.frame: 6 × 2\n",
              "\\begin{tabular}{r|ll}\n",
              "  & ID & item\\_cnt\\_month\\\\\n",
              "  & <int> & <dbl>\\\\\n",
              "\\hline\n",
              "\t1 &  2587 & 1.213684\\\\\n",
              "\t2 &  7687 & 1.214621\\\\\n",
              "\t3 & 12787 & 1.212746\\\\\n",
              "\t4 & 17887 & 1.215559\\\\\n",
              "\t5 & 22987 & 1.216496\\\\\n",
              "\t6 & 28087 & 1.211808\\\\\n",
              "\\end{tabular}\n"
            ],
            "text/markdown": [
              "\n",
              "A data.frame: 6 × 2\n",
              "\n",
              "| <!--/--> | ID &lt;int&gt; | item_cnt_month &lt;dbl&gt; |\n",
              "|---|---|---|\n",
              "| 1 |  2587 | 1.213684 |\n",
              "| 2 |  7687 | 1.214621 |\n",
              "| 3 | 12787 | 1.212746 |\n",
              "| 4 | 17887 | 1.215559 |\n",
              "| 5 | 22987 | 1.216496 |\n",
              "| 6 | 28087 | 1.211808 |\n",
              "\n"
            ],
            "text/plain": [
              "  ID    item_cnt_month\n",
              "1  2587 1.213684      \n",
              "2  7687 1.214621      \n",
              "3 12787 1.212746      \n",
              "4 17887 1.215559      \n",
              "5 22987 1.216496      \n",
              "6 28087 1.211808      "
            ]
          },
          "metadata": {},
          "output_type": "display_data"
        }
      ],
      "source": [
        "model <- lm(formula = item_cnt_day ~ shop_id + item_id + item_category_id, data = sales_d)\n",
        "res <- predict(model, test_d[, c(\"shop_id\", \"item_id\", \"item_category_id\")])\n",
        "s1 <- do_p(res, 1)\n",
        "head(s1)\n",
        "# Score\n",
        "# 1.56324"
      ]
    },
    {
      "cell_type": "markdown",
      "metadata": {
        "id": "M1KWvDo3G1RV"
      },
      "source": [
        "## Try 2\n",
        "\n",
        "score: 1.52569"
      ]
    },
    {
      "cell_type": "code",
      "execution_count": null,
      "metadata": {
        "id": "_rxG-l7sG1RV",
        "outputId": "ad049527-6340-4664-d301-dfcfe7b6701b"
      },
      "outputs": [
        {
          "data": {
            "text/html": [
              "<table>\n",
              "<caption>A data.frame: 6 × 2</caption>\n",
              "<thead>\n",
              "\t<tr><th></th><th scope=col>ID</th><th scope=col>item_cnt_month</th></tr>\n",
              "\t<tr><th></th><th scope=col>&lt;int&gt;</th><th scope=col>&lt;dbl&gt;</th></tr>\n",
              "</thead>\n",
              "<tbody>\n",
              "\t<tr><th scope=row>1</th><td> 2587</td><td>1.163262</td></tr>\n",
              "\t<tr><th scope=row>2</th><td> 7687</td><td>1.163587</td></tr>\n",
              "\t<tr><th scope=row>3</th><td>12787</td><td>1.162938</td></tr>\n",
              "\t<tr><th scope=row>4</th><td>17887</td><td>1.163912</td></tr>\n",
              "\t<tr><th scope=row>5</th><td>22987</td><td>1.164237</td></tr>\n",
              "\t<tr><th scope=row>6</th><td>28087</td><td>1.162613</td></tr>\n",
              "</tbody>\n",
              "</table>\n"
            ],
            "text/latex": [
              "A data.frame: 6 × 2\n",
              "\\begin{tabular}{r|ll}\n",
              "  & ID & item\\_cnt\\_month\\\\\n",
              "  & <int> & <dbl>\\\\\n",
              "\\hline\n",
              "\t1 &  2587 & 1.163262\\\\\n",
              "\t2 &  7687 & 1.163587\\\\\n",
              "\t3 & 12787 & 1.162938\\\\\n",
              "\t4 & 17887 & 1.163912\\\\\n",
              "\t5 & 22987 & 1.164237\\\\\n",
              "\t6 & 28087 & 1.162613\\\\\n",
              "\\end{tabular}\n"
            ],
            "text/markdown": [
              "\n",
              "A data.frame: 6 × 2\n",
              "\n",
              "| <!--/--> | ID &lt;int&gt; | item_cnt_month &lt;dbl&gt; |\n",
              "|---|---|---|\n",
              "| 1 |  2587 | 1.163262 |\n",
              "| 2 |  7687 | 1.163587 |\n",
              "| 3 | 12787 | 1.162938 |\n",
              "| 4 | 17887 | 1.163912 |\n",
              "| 5 | 22987 | 1.164237 |\n",
              "| 6 | 28087 | 1.162613 |\n",
              "\n"
            ],
            "text/plain": [
              "  ID    item_cnt_month\n",
              "1  2587 1.163262      \n",
              "2  7687 1.163587      \n",
              "3 12787 1.162938      \n",
              "4 17887 1.163912      \n",
              "5 22987 1.164237      \n",
              "6 28087 1.162613      "
            ]
          },
          "metadata": {},
          "output_type": "display_data"
        }
      ],
      "source": [
        "model <- lm(formula = item_cnt_day ~ shop_id + item_id + icid, data = sales_d)\n",
        "res <- predict(model, test_d[, c(\"shop_id\", \"item_id\", \"icid\")])\n",
        "s2 <- do_p(res, 2)\n",
        "head(s2)\n",
        "# Score\n",
        "# 1.52569"
      ]
    },
    {
      "cell_type": "code",
      "execution_count": null,
      "metadata": {
        "id": "u5628ESjG1RV"
      },
      "outputs": [],
      "source": [
        "sales_d$date     <- as.Date(sales_d$date, \"%d.%m.%Y\")\n",
        "sales_d$month    <- as.factor(month(sales_d$date))"
      ]
    },
    {
      "cell_type": "code",
      "execution_count": null,
      "metadata": {
        "id": "pjDN1HUKG1RW",
        "outputId": "2f04dd4a-6b19-4f4f-ed7d-b563b523f9e5"
      },
      "outputs": [
        {
          "data": {
            "text/plain": [
              "    item_id           date            date_block_num     shop_id  \n",
              " Min.   :    0   Min.   :2013-01-01   Min.   : 0.00   Min.   : 0  \n",
              " 1st Qu.: 4476   1st Qu.:2013-08-01   1st Qu.: 7.00   1st Qu.:22  \n",
              " Median : 9343   Median :2014-03-04   Median :14.00   Median :31  \n",
              " Mean   :10197   Mean   :2014-04-03   Mean   :14.57   Mean   :33  \n",
              " 3rd Qu.:15684   3rd Qu.:2014-12-05   3rd Qu.:23.00   3rd Qu.:47  \n",
              " Max.   :22169   Max.   :2015-10-31   Max.   :33.00   Max.   :59  \n",
              "                                                                  \n",
              "   item_price        item_cnt_day      item_category_id      icid        \n",
              " Min.   :    -1.0   Min.   : -22.000   Min.   : 0       40     : 564652  \n",
              " 1st Qu.:   249.0   1st Qu.:   1.000   1st Qu.:28       30     : 351591  \n",
              " Median :   399.0   Median :   1.000   Median :40       55     : 339585  \n",
              " Mean   :   890.9   Mean   :   1.243   Mean   :40       19     : 208219  \n",
              " 3rd Qu.:   999.0   3rd Qu.:   1.000   3rd Qu.:55       37     : 192674  \n",
              " Max.   :307980.0   Max.   :2169.000   Max.   :83       23     : 146789  \n",
              "                                                        (Other):1132339  \n",
              "     month        \n",
              " 1      : 303561  \n",
              " 3      : 284057  \n",
              " 12     : 274032  \n",
              " 2      : 270251  \n",
              " 8      : 248415  \n",
              " 6      : 237428  \n",
              " (Other):1318105  "
            ]
          },
          "metadata": {},
          "output_type": "display_data"
        }
      ],
      "source": [
        "summary(sales_d)"
      ]
    },
    {
      "cell_type": "code",
      "execution_count": null,
      "metadata": {
        "id": "YXxKl8HuG1RW",
        "outputId": "bb99ce83-613c-4761-dbee-25bdf1466737"
      },
      "outputs": [
        {
          "data": {
            "text/html": [
              "<table>\n",
              "<caption>A data.table: 6 × 7</caption>\n",
              "<thead>\n",
              "\t<tr><th scope=col>item_id</th><th scope=col>ID</th><th scope=col>shop_id</th><th scope=col>item_category_id</th><th scope=col>icid</th><th scope=col>month</th><th scope=col>date_block_num</th></tr>\n",
              "\t<tr><th scope=col>&lt;int&gt;</th><th scope=col>&lt;int&gt;</th><th scope=col>&lt;int&gt;</th><th scope=col>&lt;int&gt;</th><th scope=col>&lt;fct&gt;</th><th scope=col>&lt;fct&gt;</th><th scope=col>&lt;dbl&gt;</th></tr>\n",
              "</thead>\n",
              "<tbody>\n",
              "\t<tr><td>30</td><td> 2587</td><td>5</td><td>40</td><td>40</td><td>10</td><td>34</td></tr>\n",
              "\t<tr><td>30</td><td> 7687</td><td>4</td><td>40</td><td>40</td><td>10</td><td>34</td></tr>\n",
              "\t<tr><td>30</td><td>12787</td><td>6</td><td>40</td><td>40</td><td>10</td><td>34</td></tr>\n",
              "\t<tr><td>30</td><td>17887</td><td>3</td><td>40</td><td>40</td><td>10</td><td>34</td></tr>\n",
              "\t<tr><td>30</td><td>22987</td><td>2</td><td>40</td><td>40</td><td>10</td><td>34</td></tr>\n",
              "\t<tr><td>30</td><td>28087</td><td>7</td><td>40</td><td>40</td><td>10</td><td>34</td></tr>\n",
              "</tbody>\n",
              "</table>\n"
            ],
            "text/latex": [
              "A data.table: 6 × 7\n",
              "\\begin{tabular}{lllllll}\n",
              " item\\_id & ID & shop\\_id & item\\_category\\_id & icid & month & date\\_block\\_num\\\\\n",
              " <int> & <int> & <int> & <int> & <fct> & <fct> & <dbl>\\\\\n",
              "\\hline\n",
              "\t 30 &  2587 & 5 & 40 & 40 & 10 & 34\\\\\n",
              "\t 30 &  7687 & 4 & 40 & 40 & 10 & 34\\\\\n",
              "\t 30 & 12787 & 6 & 40 & 40 & 10 & 34\\\\\n",
              "\t 30 & 17887 & 3 & 40 & 40 & 10 & 34\\\\\n",
              "\t 30 & 22987 & 2 & 40 & 40 & 10 & 34\\\\\n",
              "\t 30 & 28087 & 7 & 40 & 40 & 10 & 34\\\\\n",
              "\\end{tabular}\n"
            ],
            "text/markdown": [
              "\n",
              "A data.table: 6 × 7\n",
              "\n",
              "| item_id &lt;int&gt; | ID &lt;int&gt; | shop_id &lt;int&gt; | item_category_id &lt;int&gt; | icid &lt;fct&gt; | month &lt;fct&gt; | date_block_num &lt;dbl&gt; |\n",
              "|---|---|---|---|---|---|---|\n",
              "| 30 |  2587 | 5 | 40 | 40 | 10 | 34 |\n",
              "| 30 |  7687 | 4 | 40 | 40 | 10 | 34 |\n",
              "| 30 | 12787 | 6 | 40 | 40 | 10 | 34 |\n",
              "| 30 | 17887 | 3 | 40 | 40 | 10 | 34 |\n",
              "| 30 | 22987 | 2 | 40 | 40 | 10 | 34 |\n",
              "| 30 | 28087 | 7 | 40 | 40 | 10 | 34 |\n",
              "\n"
            ],
            "text/plain": [
              "  item_id ID    shop_id item_category_id icid month date_block_num\n",
              "1 30       2587 5       40               40   10    34            \n",
              "2 30       7687 4       40               40   10    34            \n",
              "3 30      12787 6       40               40   10    34            \n",
              "4 30      17887 3       40               40   10    34            \n",
              "5 30      22987 2       40               40   10    34            \n",
              "6 30      28087 7       40               40   10    34            "
            ]
          },
          "metadata": {},
          "output_type": "display_data"
        }
      ],
      "source": [
        "test_d$month <- 10\n",
        "test_d$month <- as.factor(test_d$month)\n",
        "test_d$date_block_num <- 34\n",
        "head(test_d)"
      ]
    },
    {
      "cell_type": "markdown",
      "metadata": {
        "id": "3T2P8KeaG1RW"
      },
      "source": [
        "## Try 3\n",
        "\n",
        "score: 1.43737"
      ]
    },
    {
      "cell_type": "code",
      "execution_count": null,
      "metadata": {
        "id": "S9oirFjfG1RW",
        "outputId": "7599e64a-73a1-4e95-d00a-6fb1b9410d82"
      },
      "outputs": [
        {
          "name": "stderr",
          "output_type": "stream",
          "text": [
            "Warning message in log(item_cnt_day):\n",
            "“NaNs produced”\n"
          ]
        },
        {
          "data": {
            "text/html": [
              "<table>\n",
              "<caption>A data.frame: 6 × 2</caption>\n",
              "<thead>\n",
              "\t<tr><th></th><th scope=col>ID</th><th scope=col>item_cnt_month</th></tr>\n",
              "\t<tr><th></th><th scope=col>&lt;int&gt;</th><th scope=col>&lt;dbl&gt;</th></tr>\n",
              "</thead>\n",
              "<tbody>\n",
              "\t<tr><th scope=row>1</th><td> 2587</td><td>1.064008</td></tr>\n",
              "\t<tr><th scope=row>2</th><td> 7687</td><td>1.063994</td></tr>\n",
              "\t<tr><th scope=row>3</th><td>12787</td><td>1.064023</td></tr>\n",
              "\t<tr><th scope=row>4</th><td>17887</td><td>1.063980</td></tr>\n",
              "\t<tr><th scope=row>5</th><td>22987</td><td>1.063965</td></tr>\n",
              "\t<tr><th scope=row>6</th><td>28087</td><td>1.064037</td></tr>\n",
              "</tbody>\n",
              "</table>\n"
            ],
            "text/latex": [
              "A data.frame: 6 × 2\n",
              "\\begin{tabular}{r|ll}\n",
              "  & ID & item\\_cnt\\_month\\\\\n",
              "  & <int> & <dbl>\\\\\n",
              "\\hline\n",
              "\t1 &  2587 & 1.064008\\\\\n",
              "\t2 &  7687 & 1.063994\\\\\n",
              "\t3 & 12787 & 1.064023\\\\\n",
              "\t4 & 17887 & 1.063980\\\\\n",
              "\t5 & 22987 & 1.063965\\\\\n",
              "\t6 & 28087 & 1.064037\\\\\n",
              "\\end{tabular}\n"
            ],
            "text/markdown": [
              "\n",
              "A data.frame: 6 × 2\n",
              "\n",
              "| <!--/--> | ID &lt;int&gt; | item_cnt_month &lt;dbl&gt; |\n",
              "|---|---|---|\n",
              "| 1 |  2587 | 1.064008 |\n",
              "| 2 |  7687 | 1.063994 |\n",
              "| 3 | 12787 | 1.064023 |\n",
              "| 4 | 17887 | 1.063980 |\n",
              "| 5 | 22987 | 1.063965 |\n",
              "| 6 | 28087 | 1.064037 |\n",
              "\n"
            ],
            "text/plain": [
              "  ID    item_cnt_month\n",
              "1  2587 1.064008      \n",
              "2  7687 1.063994      \n",
              "3 12787 1.064023      \n",
              "4 17887 1.063980      \n",
              "5 22987 1.063965      \n",
              "6 28087 1.064037      "
            ]
          },
          "metadata": {},
          "output_type": "display_data"
        }
      ],
      "source": [
        "model <- lm(formula = log(item_cnt_day) ~ shop_id + item_id + icid + date_block_num, data = sales_d)\n",
        "res <- predict(model, test_d[, c(\"shop_id\", \"item_id\", \"icid\", \"date_block_num\")])\n",
        "\n",
        "s3 <- do_p(exp(res), 3)\n",
        "head(s3)"
      ]
    },
    {
      "cell_type": "code",
      "execution_count": null,
      "metadata": {
        "id": "BT5y53DBG1RX",
        "outputId": "b3c28b8d-8982-41a5-ff93-d4b04c7ab652"
      },
      "outputs": [
        {
          "data": {
            "text/html": [
              "<table>\n",
              "<caption>A data.table: 6 × 8</caption>\n",
              "<thead>\n",
              "\t<tr><th scope=col>item_id</th><th scope=col>ID</th><th scope=col>shop_id</th><th scope=col>item_category_id</th><th scope=col>icid</th><th scope=col>month</th><th scope=col>date_block_num</th><th scope=col>item_price</th></tr>\n",
              "\t<tr><th scope=col>&lt;int&gt;</th><th scope=col>&lt;int&gt;</th><th scope=col>&lt;int&gt;</th><th scope=col>&lt;int&gt;</th><th scope=col>&lt;fct&gt;</th><th scope=col>&lt;fct&gt;</th><th scope=col>&lt;dbl&gt;</th><th scope=col>&lt;dbl&gt;</th></tr>\n",
              "</thead>\n",
              "<tbody>\n",
              "\t<tr><td>30</td><td> 2587</td><td>5</td><td>40</td><td>40</td><td>10</td><td>34</td><td>399</td></tr>\n",
              "\t<tr><td>30</td><td> 7687</td><td>4</td><td>40</td><td>40</td><td>10</td><td>34</td><td>399</td></tr>\n",
              "\t<tr><td>30</td><td>12787</td><td>6</td><td>40</td><td>40</td><td>10</td><td>34</td><td>399</td></tr>\n",
              "\t<tr><td>30</td><td>17887</td><td>3</td><td>40</td><td>40</td><td>10</td><td>34</td><td>399</td></tr>\n",
              "\t<tr><td>30</td><td>22987</td><td>2</td><td>40</td><td>40</td><td>10</td><td>34</td><td>399</td></tr>\n",
              "\t<tr><td>30</td><td>28087</td><td>7</td><td>40</td><td>40</td><td>10</td><td>34</td><td>399</td></tr>\n",
              "</tbody>\n",
              "</table>\n"
            ],
            "text/latex": [
              "A data.table: 6 × 8\n",
              "\\begin{tabular}{llllllll}\n",
              " item\\_id & ID & shop\\_id & item\\_category\\_id & icid & month & date\\_block\\_num & item\\_price\\\\\n",
              " <int> & <int> & <int> & <int> & <fct> & <fct> & <dbl> & <dbl>\\\\\n",
              "\\hline\n",
              "\t 30 &  2587 & 5 & 40 & 40 & 10 & 34 & 399\\\\\n",
              "\t 30 &  7687 & 4 & 40 & 40 & 10 & 34 & 399\\\\\n",
              "\t 30 & 12787 & 6 & 40 & 40 & 10 & 34 & 399\\\\\n",
              "\t 30 & 17887 & 3 & 40 & 40 & 10 & 34 & 399\\\\\n",
              "\t 30 & 22987 & 2 & 40 & 40 & 10 & 34 & 399\\\\\n",
              "\t 30 & 28087 & 7 & 40 & 40 & 10 & 34 & 399\\\\\n",
              "\\end{tabular}\n"
            ],
            "text/markdown": [
              "\n",
              "A data.table: 6 × 8\n",
              "\n",
              "| item_id &lt;int&gt; | ID &lt;int&gt; | shop_id &lt;int&gt; | item_category_id &lt;int&gt; | icid &lt;fct&gt; | month &lt;fct&gt; | date_block_num &lt;dbl&gt; | item_price &lt;dbl&gt; |\n",
              "|---|---|---|---|---|---|---|---|\n",
              "| 30 |  2587 | 5 | 40 | 40 | 10 | 34 | 399 |\n",
              "| 30 |  7687 | 4 | 40 | 40 | 10 | 34 | 399 |\n",
              "| 30 | 12787 | 6 | 40 | 40 | 10 | 34 | 399 |\n",
              "| 30 | 17887 | 3 | 40 | 40 | 10 | 34 | 399 |\n",
              "| 30 | 22987 | 2 | 40 | 40 | 10 | 34 | 399 |\n",
              "| 30 | 28087 | 7 | 40 | 40 | 10 | 34 | 399 |\n",
              "\n"
            ],
            "text/plain": [
              "  item_id ID    shop_id item_category_id icid month date_block_num item_price\n",
              "1 30       2587 5       40               40   10    34             399       \n",
              "2 30       7687 4       40               40   10    34             399       \n",
              "3 30      12787 6       40               40   10    34             399       \n",
              "4 30      17887 3       40               40   10    34             399       \n",
              "5 30      22987 2       40               40   10    34             399       \n",
              "6 30      28087 7       40               40   10    34             399       "
            ]
          },
          "metadata": {},
          "output_type": "display_data"
        }
      ],
      "source": [
        "uids <- test_d$item_id %>% unique\n",
        "u_price <- uids %>% lapply(., function(x){ sales_d[item_id == x]$item_price %>% getmode }) %>% unlist\n",
        "\n",
        "test_d$item_price <- test_d$item_id %>% lapply(., function(x){u_price[uids == x]}) %>% unlist\n",
        "test_d$item_price[is.na(test_d$item_price)] <- 0\n",
        "head(test_d)"
      ]
    },
    {
      "cell_type": "markdown",
      "metadata": {
        "id": "ufEwvMXgG1RX"
      },
      "source": [
        "## Try 4\n",
        "\n",
        "score: 1.43841"
      ]
    },
    {
      "cell_type": "code",
      "execution_count": null,
      "metadata": {
        "id": "8qRqX369G1RX",
        "outputId": "5f133b9c-bd68-4c28-a43c-a5ee31fe2b43"
      },
      "outputs": [
        {
          "name": "stderr",
          "output_type": "stream",
          "text": [
            "Warning message in log(item_cnt_day):\n",
            "“NaNs produced”\n"
          ]
        },
        {
          "data": {
            "text/html": [
              "<table>\n",
              "<caption>A data.frame: 6 × 2</caption>\n",
              "<thead>\n",
              "\t<tr><th></th><th scope=col>ID</th><th scope=col>item_cnt_month</th></tr>\n",
              "\t<tr><th></th><th scope=col>&lt;int&gt;</th><th scope=col>&lt;dbl&gt;</th></tr>\n",
              "</thead>\n",
              "<tbody>\n",
              "\t<tr><th scope=row>1</th><td> 2587</td><td>1.063819</td></tr>\n",
              "\t<tr><th scope=row>2</th><td> 7687</td><td>1.063798</td></tr>\n",
              "\t<tr><th scope=row>3</th><td>12787</td><td>1.063841</td></tr>\n",
              "\t<tr><th scope=row>4</th><td>17887</td><td>1.063776</td></tr>\n",
              "\t<tr><th scope=row>5</th><td>22987</td><td>1.063755</td></tr>\n",
              "\t<tr><th scope=row>6</th><td>28087</td><td>1.063862</td></tr>\n",
              "</tbody>\n",
              "</table>\n"
            ],
            "text/latex": [
              "A data.frame: 6 × 2\n",
              "\\begin{tabular}{r|ll}\n",
              "  & ID & item\\_cnt\\_month\\\\\n",
              "  & <int> & <dbl>\\\\\n",
              "\\hline\n",
              "\t1 &  2587 & 1.063819\\\\\n",
              "\t2 &  7687 & 1.063798\\\\\n",
              "\t3 & 12787 & 1.063841\\\\\n",
              "\t4 & 17887 & 1.063776\\\\\n",
              "\t5 & 22987 & 1.063755\\\\\n",
              "\t6 & 28087 & 1.063862\\\\\n",
              "\\end{tabular}\n"
            ],
            "text/markdown": [
              "\n",
              "A data.frame: 6 × 2\n",
              "\n",
              "| <!--/--> | ID &lt;int&gt; | item_cnt_month &lt;dbl&gt; |\n",
              "|---|---|---|\n",
              "| 1 |  2587 | 1.063819 |\n",
              "| 2 |  7687 | 1.063798 |\n",
              "| 3 | 12787 | 1.063841 |\n",
              "| 4 | 17887 | 1.063776 |\n",
              "| 5 | 22987 | 1.063755 |\n",
              "| 6 | 28087 | 1.063862 |\n",
              "\n"
            ],
            "text/plain": [
              "  ID    item_cnt_month\n",
              "1  2587 1.063819      \n",
              "2  7687 1.063798      \n",
              "3 12787 1.063841      \n",
              "4 17887 1.063776      \n",
              "5 22987 1.063755      \n",
              "6 28087 1.063862      "
            ]
          },
          "metadata": {},
          "output_type": "display_data"
        }
      ],
      "source": [
        "model <- lm(formula = log(item_cnt_day) ~ shop_id + item_id + icid + date_block_num + item_price, data = sales_d)\n",
        "res <- predict(model, test_d[, c(\"shop_id\", \"item_id\", \"icid\", \"date_block_num\", \"item_price\")])\n",
        "\n",
        "s4 <- do_p(exp(res), 4)\n",
        "head(s4)"
      ]
    },
    {
      "cell_type": "markdown",
      "metadata": {
        "id": "C8DyTmBsG1RX"
      },
      "source": [
        "## Try 5\n",
        "\n",
        "score: 1.44981"
      ]
    },
    {
      "cell_type": "code",
      "execution_count": null,
      "metadata": {
        "id": "21ps6RBVG1RY",
        "outputId": "c1febf91-4f9b-40e2-a793-841f73e76909"
      },
      "outputs": [
        {
          "name": "stderr",
          "output_type": "stream",
          "text": [
            "Warning message in log(item_cnt_day):\n",
            "“NaNs produced”\n"
          ]
        },
        {
          "data": {
            "text/html": [
              "<table>\n",
              "<caption>A data.frame: 6 × 2</caption>\n",
              "<thead>\n",
              "\t<tr><th></th><th scope=col>ID</th><th scope=col>item_cnt_month</th></tr>\n",
              "\t<tr><th></th><th scope=col>&lt;int&gt;</th><th scope=col>&lt;dbl&gt;</th></tr>\n",
              "</thead>\n",
              "<tbody>\n",
              "\t<tr><th scope=row>1</th><td> 2587</td><td>1.085492</td></tr>\n",
              "\t<tr><th scope=row>2</th><td> 7687</td><td>1.085469</td></tr>\n",
              "\t<tr><th scope=row>3</th><td>12787</td><td>1.085516</td></tr>\n",
              "\t<tr><th scope=row>4</th><td>17887</td><td>1.085446</td></tr>\n",
              "\t<tr><th scope=row>5</th><td>22987</td><td>1.085422</td></tr>\n",
              "\t<tr><th scope=row>6</th><td>28087</td><td>1.085539</td></tr>\n",
              "</tbody>\n",
              "</table>\n"
            ],
            "text/latex": [
              "A data.frame: 6 × 2\n",
              "\\begin{tabular}{r|ll}\n",
              "  & ID & item\\_cnt\\_month\\\\\n",
              "  & <int> & <dbl>\\\\\n",
              "\\hline\n",
              "\t1 &  2587 & 1.085492\\\\\n",
              "\t2 &  7687 & 1.085469\\\\\n",
              "\t3 & 12787 & 1.085516\\\\\n",
              "\t4 & 17887 & 1.085446\\\\\n",
              "\t5 & 22987 & 1.085422\\\\\n",
              "\t6 & 28087 & 1.085539\\\\\n",
              "\\end{tabular}\n"
            ],
            "text/markdown": [
              "\n",
              "A data.frame: 6 × 2\n",
              "\n",
              "| <!--/--> | ID &lt;int&gt; | item_cnt_month &lt;dbl&gt; |\n",
              "|---|---|---|\n",
              "| 1 |  2587 | 1.085492 |\n",
              "| 2 |  7687 | 1.085469 |\n",
              "| 3 | 12787 | 1.085516 |\n",
              "| 4 | 17887 | 1.085446 |\n",
              "| 5 | 22987 | 1.085422 |\n",
              "| 6 | 28087 | 1.085539 |\n",
              "\n"
            ],
            "text/plain": [
              "  ID    item_cnt_month\n",
              "1  2587 1.085492      \n",
              "2  7687 1.085469      \n",
              "3 12787 1.085516      \n",
              "4 17887 1.085446      \n",
              "5 22987 1.085422      \n",
              "6 28087 1.085539      "
            ]
          },
          "metadata": {},
          "output_type": "display_data"
        }
      ],
      "source": [
        "model <- lm(formula = log(item_cnt_day) ~ shop_id + item_id + icid + date_block_num + item_price + month, data = sales_d)\n",
        "res <- predict(model, test_d[, c(\"shop_id\", \"item_id\", \"icid\", \"date_block_num\", \"item_price\", \"month\")])\n",
        "\n",
        "s5 <- do_p(exp(res), 5)\n",
        "head(s5)"
      ]
    },
    {
      "cell_type": "code",
      "execution_count": null,
      "metadata": {
        "id": "gSpH_0kPG1RY"
      },
      "outputs": [],
      "source": [
        "sales_d$item_cnt_day_2[sales_d$item_cnt_day <= 0] <- 0.1"
      ]
    },
    {
      "cell_type": "markdown",
      "metadata": {
        "id": "9HIEEb4WG1RY"
      },
      "source": [
        "## Try 6\n",
        "\n",
        "score: 1.44631"
      ]
    },
    {
      "cell_type": "code",
      "execution_count": null,
      "metadata": {
        "id": "oygeThzGG1RY",
        "outputId": "8ce75ee2-d1b1-468e-f925-8e12fb737dc2"
      },
      "outputs": [
        {
          "data": {
            "text/html": [
              "<table>\n",
              "<caption>A data.frame: 6 × 2</caption>\n",
              "<thead>\n",
              "\t<tr><th></th><th scope=col>ID</th><th scope=col>item_cnt_month</th></tr>\n",
              "\t<tr><th></th><th scope=col>&lt;int&gt;</th><th scope=col>&lt;dbl&gt;</th></tr>\n",
              "</thead>\n",
              "<tbody>\n",
              "\t<tr><th scope=row>1</th><td> 2587</td><td>1.081754</td></tr>\n",
              "\t<tr><th scope=row>2</th><td> 7687</td><td>1.081736</td></tr>\n",
              "\t<tr><th scope=row>3</th><td>12787</td><td>1.081771</td></tr>\n",
              "\t<tr><th scope=row>4</th><td>17887</td><td>1.081718</td></tr>\n",
              "\t<tr><th scope=row>5</th><td>22987</td><td>1.081700</td></tr>\n",
              "\t<tr><th scope=row>6</th><td>28087</td><td>1.081789</td></tr>\n",
              "</tbody>\n",
              "</table>\n"
            ],
            "text/latex": [
              "A data.frame: 6 × 2\n",
              "\\begin{tabular}{r|ll}\n",
              "  & ID & item\\_cnt\\_month\\\\\n",
              "  & <int> & <dbl>\\\\\n",
              "\\hline\n",
              "\t1 &  2587 & 1.081754\\\\\n",
              "\t2 &  7687 & 1.081736\\\\\n",
              "\t3 & 12787 & 1.081771\\\\\n",
              "\t4 & 17887 & 1.081718\\\\\n",
              "\t5 & 22987 & 1.081700\\\\\n",
              "\t6 & 28087 & 1.081789\\\\\n",
              "\\end{tabular}\n"
            ],
            "text/markdown": [
              "\n",
              "A data.frame: 6 × 2\n",
              "\n",
              "| <!--/--> | ID &lt;int&gt; | item_cnt_month &lt;dbl&gt; |\n",
              "|---|---|---|\n",
              "| 1 |  2587 | 1.081754 |\n",
              "| 2 |  7687 | 1.081736 |\n",
              "| 3 | 12787 | 1.081771 |\n",
              "| 4 | 17887 | 1.081718 |\n",
              "| 5 | 22987 | 1.081700 |\n",
              "| 6 | 28087 | 1.081789 |\n",
              "\n"
            ],
            "text/plain": [
              "  ID    item_cnt_month\n",
              "1  2587 1.081754      \n",
              "2  7687 1.081736      \n",
              "3 12787 1.081771      \n",
              "4 17887 1.081718      \n",
              "5 22987 1.081700      \n",
              "6 28087 1.081789      "
            ]
          },
          "metadata": {},
          "output_type": "display_data"
        }
      ],
      "source": [
        "model <- lm(formula = log(item_cnt_day_2) ~ shop_id + item_id + icid + date_block_num + item_price + month, data = sales_d)\n",
        "res <- predict(model, test_d[, c(\"shop_id\", \"item_id\", \"icid\", \"date_block_num\", \"item_price\", \"month\")])\n",
        "\n",
        "s6 <- do_p(exp(res), 6)\n",
        "head(s6)"
      ]
    },
    {
      "cell_type": "markdown",
      "metadata": {
        "id": "GydPM-CwG1RY"
      },
      "source": [
        "## Try 7\n",
        "\n",
        "score: 1.33841"
      ]
    },
    {
      "cell_type": "code",
      "execution_count": null,
      "metadata": {
        "id": "sJqH2v8TG1RZ",
        "outputId": "d64924e8-ab10-428b-c0b0-e63771a024ce"
      },
      "outputs": [
        {
          "data": {
            "text/html": [
              "<table>\n",
              "<caption>A data.frame: 6 × 2</caption>\n",
              "<thead>\n",
              "\t<tr><th></th><th scope=col>ID</th><th scope=col>item_cnt_month</th></tr>\n",
              "\t<tr><th></th><th scope=col>&lt;int&gt;</th><th scope=col>&lt;dbl&gt;</th></tr>\n",
              "</thead>\n",
              "<tbody>\n",
              "\t<tr><th scope=row>1</th><td> 2587</td><td>1.120843</td></tr>\n",
              "\t<tr><th scope=row>2</th><td> 7687</td><td>1.120892</td></tr>\n",
              "\t<tr><th scope=row>3</th><td>12787</td><td>1.120793</td></tr>\n",
              "\t<tr><th scope=row>4</th><td>17887</td><td>1.120941</td></tr>\n",
              "\t<tr><th scope=row>5</th><td>22987</td><td>1.120991</td></tr>\n",
              "\t<tr><th scope=row>6</th><td>28087</td><td>1.120744</td></tr>\n",
              "</tbody>\n",
              "</table>\n"
            ],
            "text/latex": [
              "A data.frame: 6 × 2\n",
              "\\begin{tabular}{r|ll}\n",
              "  & ID & item\\_cnt\\_month\\\\\n",
              "  & <int> & <dbl>\\\\\n",
              "\\hline\n",
              "\t1 &  2587 & 1.120843\\\\\n",
              "\t2 &  7687 & 1.120892\\\\\n",
              "\t3 & 12787 & 1.120793\\\\\n",
              "\t4 & 17887 & 1.120941\\\\\n",
              "\t5 & 22987 & 1.120991\\\\\n",
              "\t6 & 28087 & 1.120744\\\\\n",
              "\\end{tabular}\n"
            ],
            "text/markdown": [
              "\n",
              "A data.frame: 6 × 2\n",
              "\n",
              "| <!--/--> | ID &lt;int&gt; | item_cnt_month &lt;dbl&gt; |\n",
              "|---|---|---|\n",
              "| 1 |  2587 | 1.120843 |\n",
              "| 2 |  7687 | 1.120892 |\n",
              "| 3 | 12787 | 1.120793 |\n",
              "| 4 | 17887 | 1.120941 |\n",
              "| 5 | 22987 | 1.120991 |\n",
              "| 6 | 28087 | 1.120744 |\n",
              "\n"
            ],
            "text/plain": [
              "  ID    item_cnt_month\n",
              "1  2587 1.120843      \n",
              "2  7687 1.120892      \n",
              "3 12787 1.120793      \n",
              "4 17887 1.120941      \n",
              "5 22987 1.120991      \n",
              "6 28087 1.120744      "
            ]
          },
          "metadata": {},
          "output_type": "display_data"
        }
      ],
      "source": [
        "sales_d$item_cnt_m <- sales_d$item_cnt_day / 12 + 1\n",
        "\n",
        "model <- lm(formula = log(item_cnt_m) ~ shop_id + icid + date_block_num + item_price + month, data = sales_d)\n",
        "res <- predict(model, test_d[, c(\"shop_id\", \"item_id\", \"icid\", \"date_block_num\", \"item_price\", \"month\")])\n",
        "\n",
        "s7<- do_p((exp(res) - 1) * 12, 7)\n",
        "head(s7)"
      ]
    },
    {
      "cell_type": "markdown",
      "metadata": {
        "id": "s5Vccx0wG1RZ"
      },
      "source": [
        "## Try 8\n",
        "\n",
        "score: 2.13690"
      ]
    },
    {
      "cell_type": "code",
      "execution_count": null,
      "metadata": {
        "id": "QIiLTRgIG1RZ",
        "outputId": "2038b052-8adc-446f-b670-884937f19e94"
      },
      "outputs": [
        {
          "name": "stdout",
          "output_type": "stream",
          "text": [
            "Iter   TrainDeviance   ValidDeviance   StepSize   Improve\n",
            "     1        6.0239         10.1985     0.0100    0.0009\n",
            "     2        6.0231         10.1985     0.0100    0.0008\n",
            "     3        6.0213         10.1984     0.0100    0.0016\n",
            "     4        6.0205         10.1985     0.0100    0.0008\n",
            "     5        6.0193         10.1986     0.0100    0.0007\n",
            "     6        6.0181         10.1986     0.0100    0.0008\n",
            "     7        6.0173         10.1988     0.0100    0.0007\n",
            "     8        6.0161         10.1989     0.0100    0.0008\n",
            "     9        6.0152         10.1989     0.0100    0.0010\n",
            "    10        6.0134         10.1990     0.0100    0.0015\n",
            "    20        6.0037         10.2009     0.0100    0.0006\n",
            "    40        5.9836         10.2055     0.0100    0.0007\n",
            "    60        5.9643         10.2098     0.0100    0.0010\n",
            "    80        5.9478         10.2147     0.0100    0.0006\n",
            "   100        5.9282         10.2169     0.0100    0.0009\n",
            "   120        5.9115         10.2179     0.0100    0.0005\n",
            "   140        5.8943         10.2198     0.0100   -0.0003\n",
            "   160        5.8807         10.2220     0.0100    0.0002\n",
            "   180        5.8696         10.2221     0.0100   -0.0002\n",
            "   200        5.8598         10.2222     0.0100    0.0008\n",
            "   220        5.8432         10.2226     0.0100   -0.0004\n",
            "   240        5.8222         10.2200     0.0100   -0.0002\n",
            "   260        5.8078         10.2188     0.0100   -0.0002\n",
            "   280        5.7973         10.2167     0.0100    0.0001\n",
            "   300        5.7880         10.2158     0.0100   -0.0003\n",
            "   320        5.7758         10.2153     0.0100    0.0008\n",
            "   340        5.7674         10.2147     0.0100   -0.0004\n",
            "   360        5.7599         10.2142     0.0100    0.0001\n",
            "   380        5.7547         10.2138     0.0100   -0.0003\n",
            "   400        5.7444         10.2132     0.0100   -0.0003\n",
            "   420        5.7405         10.2138     0.0100    0.0006\n",
            "   440        5.7346         10.2144     0.0100    0.0001\n",
            "   460        5.7290         10.2145     0.0100    0.0001\n",
            "   480        5.7241         10.2145     0.0100    0.0002\n",
            "   500        5.7185         10.2144     0.0100    0.0002\n",
            "   520        5.7142         10.2145     0.0100    0.0002\n",
            "   540        5.7101         10.2149     0.0100    0.0002\n",
            "   560        5.7026         10.2146     0.0100    0.0004\n",
            "   580        5.6976         10.2146     0.0100    0.0000\n",
            "   600        5.6934         10.2141     0.0100   -0.0003\n",
            "   620        5.6902         10.2144     0.0100    0.0002\n",
            "   640        5.6849         10.2142     0.0100    0.0000\n",
            "   660        5.6815         10.2136     0.0100    0.0001\n",
            "   680        5.6789         10.2136     0.0100    0.0000\n",
            "   700        5.6747         10.2134     0.0100    0.0001\n",
            "   720        5.6700         10.2134     0.0100   -0.0007\n",
            "   740        5.6669         10.2130     0.0100    0.0000\n",
            "   760        5.6645         10.2138     0.0100    0.0000\n",
            "   780        5.6628         10.2133     0.0100   -0.0002\n",
            "   800        5.6568         10.2134     0.0100   -0.0004\n",
            "   820        5.6520         10.2135     0.0100    0.0001\n",
            "   840        5.6493         10.2129     0.0100   -0.0020\n",
            "   860        5.6441         10.2126     0.0100    0.0000\n",
            "   880        5.6410         10.2122     0.0100   -0.0010\n",
            "   900        5.6390         10.2126     0.0100   -0.0015\n",
            "   920        5.6364         10.2125     0.0100    0.0000\n",
            "   940        5.6337         10.2119     0.0100   -0.0006\n",
            "   960        5.6316         10.2111     0.0100    0.0000\n",
            "   980        5.6288         10.2112     0.0100    0.0000\n",
            "  1000        5.6271         10.2115     0.0100    0.0001\n",
            "\n"
          ]
        }
      ],
      "source": [
        "model <- gbm(item_cnt_day ~ shop_id + item_id + month + date_block_num + item_category_id,\n",
        "             data = sales_d,\n",
        "             shrinkage = 0.01,\n",
        "             distribution = \"gaussian\",\n",
        "             n.trees = 1000,\n",
        "             interaction.depth = 5, \n",
        "             bag.fraction = 0.5,\n",
        "             train.fraction = 0.8,\n",
        "             verbose = F)"
      ]
    },
    {
      "cell_type": "code",
      "execution_count": null,
      "metadata": {
        "id": "anOcUg6PG1RZ",
        "outputId": "f0962aaa-eae7-4a74-8223-de4dd0f70ac7"
      },
      "outputs": [
        {
          "data": {
            "text/html": [
              "<table>\n",
              "<caption>A data.frame: 6 × 2</caption>\n",
              "<thead>\n",
              "\t<tr><th></th><th scope=col>ID</th><th scope=col>item_cnt_month</th></tr>\n",
              "\t<tr><th></th><th scope=col>&lt;int&gt;</th><th scope=col>&lt;dbl&gt;</th></tr>\n",
              "</thead>\n",
              "<tbody>\n",
              "\t<tr><th scope=row>1</th><td> 2587</td><td>1.060889</td></tr>\n",
              "\t<tr><th scope=row>2</th><td> 7687</td><td>1.060889</td></tr>\n",
              "\t<tr><th scope=row>3</th><td>12787</td><td>1.094212</td></tr>\n",
              "\t<tr><th scope=row>4</th><td>17887</td><td>1.060889</td></tr>\n",
              "\t<tr><th scope=row>5</th><td>22987</td><td>1.060889</td></tr>\n",
              "\t<tr><th scope=row>6</th><td>28087</td><td>1.094212</td></tr>\n",
              "</tbody>\n",
              "</table>\n"
            ],
            "text/latex": [
              "A data.frame: 6 × 2\n",
              "\\begin{tabular}{r|ll}\n",
              "  & ID & item\\_cnt\\_month\\\\\n",
              "  & <int> & <dbl>\\\\\n",
              "\\hline\n",
              "\t1 &  2587 & 1.060889\\\\\n",
              "\t2 &  7687 & 1.060889\\\\\n",
              "\t3 & 12787 & 1.094212\\\\\n",
              "\t4 & 17887 & 1.060889\\\\\n",
              "\t5 & 22987 & 1.060889\\\\\n",
              "\t6 & 28087 & 1.094212\\\\\n",
              "\\end{tabular}\n"
            ],
            "text/markdown": [
              "\n",
              "A data.frame: 6 × 2\n",
              "\n",
              "| <!--/--> | ID &lt;int&gt; | item_cnt_month &lt;dbl&gt; |\n",
              "|---|---|---|\n",
              "| 1 |  2587 | 1.060889 |\n",
              "| 2 |  7687 | 1.060889 |\n",
              "| 3 | 12787 | 1.094212 |\n",
              "| 4 | 17887 | 1.060889 |\n",
              "| 5 | 22987 | 1.060889 |\n",
              "| 6 | 28087 | 1.094212 |\n",
              "\n"
            ],
            "text/plain": [
              "  ID    item_cnt_month\n",
              "1  2587 1.060889      \n",
              "2  7687 1.060889      \n",
              "3 12787 1.094212      \n",
              "4 17887 1.060889      \n",
              "5 22987 1.060889      \n",
              "6 28087 1.094212      "
            ]
          },
          "metadata": {},
          "output_type": "display_data"
        }
      ],
      "source": [
        "res <- predict(model, \n",
        "               newdata = test_d[,c(\"shop_id\",\"item_id\",\"month\",\"date_block_num\",\"item_category_id\")], \n",
        "               n.trees = 1000)\n",
        "s8 <- do_p(res, 8)\n",
        "head(s8)"
      ]
    },
    {
      "cell_type": "code",
      "execution_count": null,
      "metadata": {
        "id": "gmw-3MQEG1RZ"
      },
      "outputs": [],
      "source": []
    }
  ],
  "metadata": {
    "kernelspec": {
      "display_name": "R",
      "language": "R",
      "name": "ir"
    },
    "language_info": {
      "codemirror_mode": "r",
      "file_extension": ".r",
      "mimetype": "text/x-r-source",
      "name": "R",
      "pygments_lexer": "r",
      "version": "4.0.3"
    },
    "colab": {
      "provenance": [],
      "include_colab_link": true
    }
  },
  "nbformat": 4,
  "nbformat_minor": 0
}